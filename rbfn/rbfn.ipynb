{
 "cells": [
  {
   "cell_type": "code",
   "execution_count": 44,
   "id": "942f5f6e",
   "metadata": {},
   "outputs": [],
   "source": [
    "import pandas as pd\n",
    "from sklearn.cluster import KMeans\n",
    "import matplotlib.pyplot as plt\n",
    "import numpy as np\n",
    "from scipy.spatial.distance import cdist\n",
    "from sklearn.preprocessing import StandardScaler\n",
    "from sklearn.linear_model import LinearRegression"
   ]
  },
  {
   "cell_type": "code",
   "execution_count": 45,
   "id": "9b3b9681",
   "metadata": {},
   "outputs": [
    {
     "data": {
      "text/html": [
       "<div>\n",
       "<style scoped>\n",
       "    .dataframe tbody tr th:only-of-type {\n",
       "        vertical-align: middle;\n",
       "    }\n",
       "\n",
       "    .dataframe tbody tr th {\n",
       "        vertical-align: top;\n",
       "    }\n",
       "\n",
       "    .dataframe thead th {\n",
       "        text-align: right;\n",
       "    }\n",
       "</style>\n",
       "<table border=\"1\" class=\"dataframe\">\n",
       "  <thead>\n",
       "    <tr style=\"text-align: right;\">\n",
       "      <th></th>\n",
       "      <th>sepal_length</th>\n",
       "      <th>sepal_width</th>\n",
       "      <th>petal_length</th>\n",
       "      <th>petal_width</th>\n",
       "    </tr>\n",
       "  </thead>\n",
       "  <tbody>\n",
       "    <tr>\n",
       "      <th>0</th>\n",
       "      <td>5.1</td>\n",
       "      <td>3.5</td>\n",
       "      <td>1.4</td>\n",
       "      <td>0.2</td>\n",
       "    </tr>\n",
       "    <tr>\n",
       "      <th>1</th>\n",
       "      <td>4.9</td>\n",
       "      <td>3.0</td>\n",
       "      <td>1.4</td>\n",
       "      <td>0.2</td>\n",
       "    </tr>\n",
       "    <tr>\n",
       "      <th>2</th>\n",
       "      <td>4.7</td>\n",
       "      <td>3.2</td>\n",
       "      <td>1.3</td>\n",
       "      <td>0.2</td>\n",
       "    </tr>\n",
       "    <tr>\n",
       "      <th>3</th>\n",
       "      <td>4.6</td>\n",
       "      <td>3.1</td>\n",
       "      <td>1.5</td>\n",
       "      <td>0.2</td>\n",
       "    </tr>\n",
       "    <tr>\n",
       "      <th>4</th>\n",
       "      <td>5.0</td>\n",
       "      <td>3.6</td>\n",
       "      <td>1.4</td>\n",
       "      <td>0.2</td>\n",
       "    </tr>\n",
       "  </tbody>\n",
       "</table>\n",
       "</div>"
      ],
      "text/plain": [
       "   sepal_length  sepal_width  petal_length  petal_width\n",
       "0           5.1          3.5           1.4          0.2\n",
       "1           4.9          3.0           1.4          0.2\n",
       "2           4.7          3.2           1.3          0.2\n",
       "3           4.6          3.1           1.5          0.2\n",
       "4           5.0          3.6           1.4          0.2"
      ]
     },
     "execution_count": 45,
     "metadata": {},
     "output_type": "execute_result"
    }
   ],
   "source": [
    "# Load the Iris dataset\n",
    "iris_df = pd.read_csv('iris.csv')\n",
    "\n",
    "# Prepare the features\n",
    "X = iris_df[['sepal_length', 'sepal_width', 'petal_length', 'petal_width']]\n",
    "\n",
    "scaler = StandardScaler()\n",
    "X_scaled = scaler.fit_transform(X)\n",
    "X.head()"
   ]
  },
  {
   "cell_type": "code",
   "execution_count": 46,
   "id": "f38e8350",
   "metadata": {},
   "outputs": [
    {
     "name": "stderr",
     "output_type": "stream",
     "text": [
      "/Users/bitaniyanassir/anaconda3/lib/python3.11/site-packages/sklearn/cluster/_kmeans.py:1416: FutureWarning: The default value of `n_init` will change from 10 to 'auto' in 1.4. Set the value of `n_init` explicitly to suppress the warning\n",
      "  super()._check_params_vs_input(X, default_n_init=10)\n"
     ]
    }
   ],
   "source": [
    "# Apply k-means with K=3 (for example)\n",
    "kmeans = KMeans(n_clusters=3)\n",
    "kmeans.fit(X)\n",
    "\n",
    "# Get the cluster centers\n",
    "centers = kmeans.cluster_centers_\n",
    "\n",
    "# Predict the cluster labels for the data points\n",
    "labels = kmeans.predict(X)"
   ]
  },
  {
   "cell_type": "code",
   "execution_count": 47,
   "id": "1fbc06c8",
   "metadata": {},
   "outputs": [],
   "source": [
    "# Calculate cluster variances\n",
    "variances = []\n",
    "for i in range(len(centers)):\n",
    "    cluster_points = X_scaled[labels == i]\n",
    "    cluster_variance = cluster_points.var(axis=0)\n",
    "    variances.append(cluster_variance)"
   ]
  },
  {
   "cell_type": "code",
   "execution_count": 56,
   "id": "fe7a7c39",
   "metadata": {},
   "outputs": [],
   "source": [
    "# Estimate RBF weights\n",
    "weights = []\n",
    "for i in range(len(centers)):\n",
    "    cluster_points = X_scaled[labels == i]\n",
    "    y = cluster_points  # Target values are the points in the cluster\n",
    "    X_bias = np.c_[np.ones(len(cluster_points)), cluster_points]\n",
    "    weight = np.linalg.inv(X_bias.T @ X_bias) @ X_bias.T @ y\n",
    "    weights.append(weight.flatten())\n",
    "    "
   ]
  },
  {
   "cell_type": "code",
   "execution_count": 57,
   "id": "0d1394a8",
   "metadata": {},
   "outputs": [],
   "source": [
    "# Define RBF function\n",
    "def rbf_function(X, centers, variances):\n",
    "    distances = cdist(X, centers)\n",
    "\n",
    "    # Reshape variances_matrix to match the dimensions of distances, except for the last dimension\n",
    "    variances_matrix = np.array(variances)[:, np.newaxis, np.newaxis]  # Create a 3D matrix\n",
    "\n",
    "    # Repeat variances_matrix along the last dimension to match the shape of distances\n",
    "    variances_matrix = np.repeat(variances_matrix, distances.shape[-1], axis=-1)\n",
    "\n",
    "    basis_values = np.exp(-distances**2 / (2 * variances_matrix**2))\n",
    "\n",
    "    # Return a 2-dimensional array\n",
    "    return basis_values[:, :, 0]  # Remove extra dimensions\n",
    " "
   ]
  },
  {
   "cell_type": "code",
   "execution_count": 58,
   "id": "2a17da03",
   "metadata": {},
   "outputs": [],
   "source": [
    "\n",
    "def rbf_network(X, centers, variances, weights):\n",
    "    rbf_features = rbf_function(X, centers, variances)\n",
    "    X_reshaped = np.reshape(X, (X.shape[0], -1))  # Reshape X to have the same number of dimensions as rbf_features\n",
    "    X_combined = np.hstack((X_reshaped, rbf_features))\n",
    "    y_pred = np.dot(X_combined, weights.T)\n",
    "    return y_pred"
   ]
  },
  {
   "cell_type": "code",
   "execution_count": null,
   "id": "e860123d",
   "metadata": {},
   "outputs": [],
   "source": []
  },
  {
   "cell_type": "code",
   "execution_count": null,
   "id": "4ca4872b",
   "metadata": {},
   "outputs": [],
   "source": []
  }
 ],
 "metadata": {
  "kernelspec": {
   "display_name": "Python 3 (ipykernel)",
   "language": "python",
   "name": "python3"
  },
  "language_info": {
   "codemirror_mode": {
    "name": "ipython",
    "version": 3
   },
   "file_extension": ".py",
   "mimetype": "text/x-python",
   "name": "python",
   "nbconvert_exporter": "python",
   "pygments_lexer": "ipython3",
   "version": "3.11.6"
  }
 },
 "nbformat": 4,
 "nbformat_minor": 5
}
